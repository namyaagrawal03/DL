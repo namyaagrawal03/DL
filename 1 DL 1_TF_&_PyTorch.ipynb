{
  "nbformat": 4,
  "nbformat_minor": 0,
  "metadata": {
    "colab": {
      "provenance": []
    },
    "kernelspec": {
      "name": "python3",
      "display_name": "Python 3"
    },
    "language_info": {
      "name": "python"
    }
  },
  "cells": [
    {
      "cell_type": "code",
      "execution_count": 4,
      "metadata": {
        "id": "t1JUugfP1uXp"
      },
      "outputs": [],
      "source": [
        "# Tensor Flow:\n",
        "\n",
        "import tensorflow as tf\n",
        "import numpy as np\n",
        "\n",
        "x=np.random.rand(100).astype(np.float32)\n",
        "\n",
        "y=0.2*x+0.2\n",
        "\n",
        "#we\n",
        "W=tf.Variable(np.random.normal([1]))\n",
        "b=tf.Variable(np.zeros([1]))\n",
        "\n",
        "#mean square error\n",
        "def mse_loss():\n",
        "    y_pred = W*x +b\n",
        "    loss=tf.reduce_mean(tf.square(y_pred-y))\n",
        "    return loss\n",
        "\n",
        ""
      ]
    },
    {
      "cell_type": "code",
      "source": [
        "optimizer= tf.keras.optimizers.Adam()"
      ],
      "metadata": {
        "id": "3yGMnpAb1weg"
      },
      "execution_count": 5,
      "outputs": []
    },
    {
      "cell_type": "code",
      "source": [
        "for step in range(5000):\n",
        "    with tf.GradientTape() as tape:\n",
        "        current_loss = mse_loss()\n",
        "\n",
        "    # Compute gradients\n",
        "    gradients = tape.gradient(current_loss, [W, b])\n",
        "\n",
        "    # Update weights\n",
        "    optimizer.apply_gradients(zip(gradients, [W, b]))\n",
        "\n",
        "    if step % 500 == 0:\n",
        "        # Print current values of W, b, and loss\n",
        "        print(f\"Step {step}: W={W.numpy()}, b={b.numpy()}, Loss={current_loss.numpy()}\")\n"
      ],
      "metadata": {
        "colab": {
          "base_uri": "https://localhost:8080/"
        },
        "id": "DcQrU4Uv2g2Z",
        "outputId": "a73935a4-0f7b-4e23-bd9d-d7213524ca2d"
      },
      "execution_count": 9,
      "outputs": [
        {
          "output_type": "stream",
          "name": "stdout",
          "text": [
            "Step 0: W=[1.44603475], b=[-0.00099999], Loss=0.27057494688351297\n",
            "Step 500: W=[1.10565609], b=[-0.24096526], Loss=0.058123364141481865\n",
            "Step 1000: W=[0.90479455], b=[-0.16129172], Loss=0.03567179700936667\n",
            "Step 1500: W=[0.70203643], b=[-0.05683363], Loss=0.018091238282894606\n",
            "Step 2000: W=[0.51967285], b=[0.03671165], Loss=0.007334008086416662\n",
            "Step 2500: W=[0.3772807], b=[0.10952202], Loss=0.0022561668475110357\n",
            "Step 3000: W=[0.28230857], b=[0.15800753], Loss=0.00048666011099043194\n",
            "Step 3500: W=[0.2303337], b=[0.18452587], Loss=6.616432063436216e-05\n",
            "Step 4000: W=[0.20828295], b=[0.1957747], Loss=4.940057479671527e-06\n",
            "Step 4500: W=[0.20153246], b=[0.19921827], Loss=1.6939893586011087e-07\n"
          ]
        }
      ]
    },
    {
      "cell_type": "code",
      "source": [
        "####################Pytorch\n",
        "import torch\n",
        "data1=[\n",
        "    [1,2],\n",
        "    [3,4]\n",
        "]\n",
        "\n",
        "data2=[\n",
        "    [2,2],\n",
        "    [2,2]\n",
        "]\n",
        "\n",
        "x_data1= torch.tensor(data1)\n",
        "x_data2= torch.tensor(data2)"
      ],
      "metadata": {
        "id": "v486p5cV2pJt"
      },
      "execution_count": 12,
      "outputs": []
    },
    {
      "cell_type": "code",
      "source": [
        "addition=x_data1+x_data2"
      ],
      "metadata": {
        "id": "t_Y9PAzg8FJp"
      },
      "execution_count": 13,
      "outputs": []
    },
    {
      "cell_type": "code",
      "source": [
        "print(\"Addition of tensors:\", addition)"
      ],
      "metadata": {
        "colab": {
          "base_uri": "https://localhost:8080/"
        },
        "id": "GaJYtAOF8eKq",
        "outputId": "8e80d442-f4ab-498a-f800-b63fdec72b04"
      },
      "execution_count": 14,
      "outputs": [
        {
          "output_type": "stream",
          "name": "stdout",
          "text": [
            "Addition of tensors: tensor([[3, 4],\n",
            "        [5, 6]])\n"
          ]
        }
      ]
    },
    {
      "cell_type": "code",
      "source": [
        "multiply=x_data1*x_data2"
      ],
      "metadata": {
        "id": "3o3-ZxH68klv"
      },
      "execution_count": 17,
      "outputs": []
    },
    {
      "cell_type": "code",
      "source": [
        "print(\"Multiplication of Tensors: \", multiply)"
      ],
      "metadata": {
        "colab": {
          "base_uri": "https://localhost:8080/"
        },
        "id": "-js8PFTg8oGp",
        "outputId": "c3bd8ae2-fc6f-40a4-f3b8-7e22962dca46"
      },
      "execution_count": 18,
      "outputs": [
        {
          "output_type": "stream",
          "name": "stdout",
          "text": [
            "Multiplication of Tensors:  tensor([[2, 4],\n",
            "        [6, 8]])\n"
          ]
        }
      ]
    },
    {
      "cell_type": "code",
      "source": [],
      "metadata": {
        "id": "C9uDvl2B8tJj"
      },
      "execution_count": null,
      "outputs": []
    }
  ]
}