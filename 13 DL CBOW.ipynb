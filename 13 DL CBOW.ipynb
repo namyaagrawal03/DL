{
 "cells": [
  {
   "cell_type": "code",
   "execution_count": 5,
   "id": "61053bd9-6178-4ea8-a49c-dd88ae14358a",
   "metadata": {},
   "outputs": [],
   "source": [
    "data = \"Deep Learning(also known as deep structured learning) is a family of machine learning. It consists of artificial neural network. Learning can be supervised or unsupervised\""
   ]
  },
  {
   "cell_type": "code",
   "execution_count": 6,
   "id": "e953038e-6fa9-4354-936f-6e8f643d50d3",
   "metadata": {},
   "outputs": [],
   "source": [
    "sentences = data.split(\".\")"
   ]
  },
  {
   "cell_type": "code",
   "execution_count": 7,
   "id": "59531f20-6179-40ae-9028-5553eaf01345",
   "metadata": {},
   "outputs": [
    {
     "data": {
      "text/plain": [
       "['Deep Learning(also known as deep structured learning) is a family of machine learning',\n",
       " ' It consists of artificial neural network',\n",
       " ' Learning can be supervised or unsupervised']"
      ]
     },
     "execution_count": 7,
     "metadata": {},
     "output_type": "execute_result"
    }
   ],
   "source": [
    "sentences"
   ]
  },
  {
   "cell_type": "code",
   "execution_count": 19,
   "id": "70c3bd56-2cf5-4ce7-aaf0-93b00f8ce412",
   "metadata": {},
   "outputs": [
    {
     "data": {
      "text/plain": [
       "['deep learning also known as deep structured learning  is a family of machine learning',\n",
       " ' it consists of artificial neural network',\n",
       " ' learning can be supervised or unsupervised']"
      ]
     },
     "execution_count": 19,
     "metadata": {},
     "output_type": "execute_result"
    }
   ],
   "source": [
    "#cleaning\n",
    "clean_sent=[]\n",
    "for sentence in sentences:\n",
    "    sentence = \"\".join(char if char.isalnum() or char.isspace() else \" \" for char in sentence)\n",
    "    sentence=sentence.lower()\n",
    "    clean_sent.append(sentence)\n",
    "\n",
    "clean_sent\n",
    "    "
   ]
  },
  {
   "cell_type": "code",
   "execution_count": 30,
   "id": "62ab20f5-6143-4fe1-ac19-1e82d55149e6",
   "metadata": {},
   "outputs": [
    {
     "data": {
      "text/plain": [
       "[[2, 1, 4, 5, 6, 2, 7, 1, 8, 9, 10, 3, 11, 1],\n",
       " [12, 13, 3, 14, 15, 16],\n",
       " [1, 17, 18, 19, 20, 21]]"
      ]
     },
     "execution_count": 30,
     "metadata": {},
     "output_type": "execute_result"
    }
   ],
   "source": [
    "#tokenize and sequences\n",
    "from tensorflow.keras.preprocessing.text import Tokenizer\n",
    "tokenize= Tokenizer()\n",
    "tokenize.fit_on_texts(clean_sent)\n",
    "sequences = tokenize.texts_to_sequences(clean_sent)\n",
    "sequences"
   ]
  },
  {
   "cell_type": "code",
   "execution_count": 35,
   "id": "adc7df15-0b4c-4dfe-94d9-64d08d82a7ab",
   "metadata": {},
   "outputs": [
    {
     "name": "stdout",
     "output_type": "stream",
     "text": [
      "{2: 'deep', 1: 'learning', 4: 'also', 5: 'known', 6: 'as', 7: 'structured', 8: 'is', 9: 'a', 10: 'family', 3: 'of', 11: 'machine', 12: 'it', 13: 'consists', 14: 'artificial', 15: 'neural', 16: 'network', 17: 'can', 18: 'be', 19: 'supervised', 20: 'or', 21: 'unsupervised'}\n",
      "\n",
      "\n",
      "{'deep': 2, 'learning': 1, 'also': 4, 'known': 5, 'as': 6, 'structured': 7, 'is': 8, 'a': 9, 'family': 10, 'of': 3, 'machine': 11, 'it': 12, 'consists': 13, 'artificial': 14, 'neural': 15, 'network': 16, 'can': 17, 'be': 18, 'supervised': 19, 'or': 20, 'unsupervised': 21}\n"
     ]
    }
   ],
   "source": [
    "#index to words and word to index\n",
    "index_words = {}\n",
    "words_to_index = {}\n",
    "for i , sequence in enumerate(sequences):\n",
    "    word_in_sent = clean_sent[i].split()\n",
    "    for j, value in enumerate(sequence):\n",
    "\n",
    "        index_words[value]= word_in_sent[j]\n",
    "        words_to_index[word_in_sent[j]] = value\n",
    "\n",
    "print(index_words)\n",
    "print(\"\\n\")\n",
    "print(words_to_index)"
   ]
  },
  {
   "cell_type": "code",
   "execution_count": 41,
   "id": "d9c50f0a-26eb-4f7d-b1a8-a2ede73a4a87",
   "metadata": {},
   "outputs": [
    {
     "name": "stdout",
     "output_type": "stream",
     "text": [
      "[[2, 1, 5, 6], [1, 4, 6, 2], [4, 5, 2, 7], [5, 6, 7, 1], [6, 2, 1, 8], [2, 7, 8, 9], [7, 1, 9, 10], [1, 8, 10, 3], [8, 9, 3, 11], [9, 10, 11, 1], [12, 13, 14, 15], [13, 3, 15, 16], [1, 17, 19, 20], [17, 18, 20, 21]]\n",
      "\n",
      "\n",
      "[4, 5, 6, 2, 7, 1, 8, 9, 10, 3, 3, 14, 18, 19]\n"
     ]
    }
   ],
   "source": [
    "#target and context\n",
    "context_size=2\n",
    "targets=[]\n",
    "contexts=[]\n",
    "\n",
    "total_words = len(tokenize.word_index)+1\n",
    "for sequence in sequences:\n",
    "    for i in range (context_size, len(sequence)-context_size):\n",
    "        target=sequence[i]\n",
    "        context = [sequence[i-2], sequence[i-1], sequence[i+1],sequence[i+2]]\n",
    "        targets.append(target)\n",
    "        contexts.append(context)\n",
    "\n",
    "print(contexts)\n",
    "print(\"\\n\")\n",
    "print(targets)"
   ]
  },
  {
   "cell_type": "code",
   "execution_count": 43,
   "id": "3fb8bde9-02b1-4e7a-a1cc-983b9f1c9488",
   "metadata": {},
   "outputs": [],
   "source": [
    "#convert to array:\n",
    "import numpy as np\n",
    "x=np.array(contexts)\n",
    "y=np.array(targets)"
   ]
  },
  {
   "cell_type": "code",
   "execution_count": 57,
   "id": "ae126181-7a6f-4b6e-90b2-a8fec15a407e",
   "metadata": {},
   "outputs": [],
   "source": [
    "#model\n",
    "emb_size = 10\n",
    "from tensorflow.keras.models import Sequential\n",
    "from tensorflow.keras import layers\n",
    "model = Sequential()\n",
    "model.add(layers.Embedding(input_dim= total_words, output_dim=emb_size, input_length= 2*context_size))\n",
    "model.add(layers.GlobalAveragePooling1D())\n",
    "model.add(layers.Dense(256, activation='relu'))\n",
    "model.add(layers.Dense(512, activation='relu'))\n",
    "model.add(layers.Dense(total_words, activation='softmax'))\n"
   ]
  },
  {
   "cell_type": "code",
   "execution_count": 60,
   "id": "7f1b4682-d487-4efb-81f1-680db490e510",
   "metadata": {},
   "outputs": [],
   "source": [
    "model.compile (loss='sparse_categorical_crossentropy', optimizer='adam', metrics = ['accuracy'])"
   ]
  },
  {
   "cell_type": "code",
   "execution_count": 61,
   "id": "8fdf8fb1-7790-4062-85bb-c3fc710d7fce",
   "metadata": {},
   "outputs": [
    {
     "name": "stdout",
     "output_type": "stream",
     "text": [
      "Epoch 1/50\n",
      "\u001b[1m1/1\u001b[0m \u001b[32m━━━━━━━━━━━━━━━━━━━━\u001b[0m\u001b[37m\u001b[0m \u001b[1m4s\u001b[0m 4s/step - accuracy: 0.0000e+00 - loss: 3.0920\n",
      "Epoch 2/50\n",
      "\u001b[1m1/1\u001b[0m \u001b[32m━━━━━━━━━━━━━━━━━━━━\u001b[0m\u001b[37m\u001b[0m \u001b[1m0s\u001b[0m 119ms/step - accuracy: 0.1429 - loss: 3.0843\n",
      "Epoch 3/50\n",
      "\u001b[1m1/1\u001b[0m \u001b[32m━━━━━━━━━━━━━━━━━━━━\u001b[0m\u001b[37m\u001b[0m \u001b[1m0s\u001b[0m 110ms/step - accuracy: 0.1429 - loss: 3.0776\n",
      "Epoch 4/50\n",
      "\u001b[1m1/1\u001b[0m \u001b[32m━━━━━━━━━━━━━━━━━━━━\u001b[0m\u001b[37m\u001b[0m \u001b[1m0s\u001b[0m 99ms/step - accuracy: 0.1429 - loss: 3.0706\n",
      "Epoch 5/50\n",
      "\u001b[1m1/1\u001b[0m \u001b[32m━━━━━━━━━━━━━━━━━━━━\u001b[0m\u001b[37m\u001b[0m \u001b[1m0s\u001b[0m 72ms/step - accuracy: 0.1429 - loss: 3.0628\n",
      "Epoch 6/50\n",
      "\u001b[1m1/1\u001b[0m \u001b[32m━━━━━━━━━━━━━━━━━━━━\u001b[0m\u001b[37m\u001b[0m \u001b[1m0s\u001b[0m 73ms/step - accuracy: 0.1429 - loss: 3.0537\n",
      "Epoch 7/50\n",
      "\u001b[1m1/1\u001b[0m \u001b[32m━━━━━━━━━━━━━━━━━━━━\u001b[0m\u001b[37m\u001b[0m \u001b[1m0s\u001b[0m 73ms/step - accuracy: 0.1429 - loss: 3.0433\n",
      "Epoch 8/50\n",
      "\u001b[1m1/1\u001b[0m \u001b[32m━━━━━━━━━━━━━━━━━━━━\u001b[0m\u001b[37m\u001b[0m \u001b[1m0s\u001b[0m 90ms/step - accuracy: 0.1429 - loss: 3.0314\n",
      "Epoch 9/50\n",
      "\u001b[1m1/1\u001b[0m \u001b[32m━━━━━━━━━━━━━━━━━━━━\u001b[0m\u001b[37m\u001b[0m \u001b[1m0s\u001b[0m 184ms/step - accuracy: 0.1429 - loss: 3.0179\n",
      "Epoch 10/50\n",
      "\u001b[1m1/1\u001b[0m \u001b[32m━━━━━━━━━━━━━━━━━━━━\u001b[0m\u001b[37m\u001b[0m \u001b[1m0s\u001b[0m 142ms/step - accuracy: 0.1429 - loss: 3.0025\n",
      "Epoch 11/50\n",
      "\u001b[1m1/1\u001b[0m \u001b[32m━━━━━━━━━━━━━━━━━━━━\u001b[0m\u001b[37m\u001b[0m \u001b[1m0s\u001b[0m 115ms/step - accuracy: 0.1429 - loss: 2.9850\n",
      "Epoch 12/50\n",
      "\u001b[1m1/1\u001b[0m \u001b[32m━━━━━━━━━━━━━━━━━━━━\u001b[0m\u001b[37m\u001b[0m \u001b[1m0s\u001b[0m 120ms/step - accuracy: 0.1429 - loss: 2.9651\n",
      "Epoch 13/50\n",
      "\u001b[1m1/1\u001b[0m \u001b[32m━━━━━━━━━━━━━━━━━━━━\u001b[0m\u001b[37m\u001b[0m \u001b[1m0s\u001b[0m 111ms/step - accuracy: 0.1429 - loss: 2.9427\n",
      "Epoch 14/50\n",
      "\u001b[1m1/1\u001b[0m \u001b[32m━━━━━━━━━━━━━━━━━━━━\u001b[0m\u001b[37m\u001b[0m \u001b[1m0s\u001b[0m 98ms/step - accuracy: 0.1429 - loss: 2.9176\n",
      "Epoch 15/50\n",
      "\u001b[1m1/1\u001b[0m \u001b[32m━━━━━━━━━━━━━━━━━━━━\u001b[0m\u001b[37m\u001b[0m \u001b[1m0s\u001b[0m 173ms/step - accuracy: 0.1429 - loss: 2.8898\n",
      "Epoch 16/50\n",
      "\u001b[1m1/1\u001b[0m \u001b[32m━━━━━━━━━━━━━━━━━━━━\u001b[0m\u001b[37m\u001b[0m \u001b[1m0s\u001b[0m 100ms/step - accuracy: 0.1429 - loss: 2.8592\n",
      "Epoch 17/50\n",
      "\u001b[1m1/1\u001b[0m \u001b[32m━━━━━━━━━━━━━━━━━━━━\u001b[0m\u001b[37m\u001b[0m \u001b[1m0s\u001b[0m 173ms/step - accuracy: 0.1429 - loss: 2.8256\n",
      "Epoch 18/50\n",
      "\u001b[1m1/1\u001b[0m \u001b[32m━━━━━━━━━━━━━━━━━━━━\u001b[0m\u001b[37m\u001b[0m \u001b[1m0s\u001b[0m 113ms/step - accuracy: 0.1429 - loss: 2.7892\n",
      "Epoch 19/50\n",
      "\u001b[1m1/1\u001b[0m \u001b[32m━━━━━━━━━━━━━━━━━━━━\u001b[0m\u001b[37m\u001b[0m \u001b[1m0s\u001b[0m 120ms/step - accuracy: 0.1429 - loss: 2.7500\n",
      "Epoch 20/50\n",
      "\u001b[1m1/1\u001b[0m \u001b[32m━━━━━━━━━━━━━━━━━━━━\u001b[0m\u001b[37m\u001b[0m \u001b[1m0s\u001b[0m 119ms/step - accuracy: 0.1429 - loss: 2.7085\n",
      "Epoch 21/50\n",
      "\u001b[1m1/1\u001b[0m \u001b[32m━━━━━━━━━━━━━━━━━━━━\u001b[0m\u001b[37m\u001b[0m \u001b[1m0s\u001b[0m 113ms/step - accuracy: 0.1429 - loss: 2.6649\n",
      "Epoch 22/50\n",
      "\u001b[1m1/1\u001b[0m \u001b[32m━━━━━━━━━━━━━━━━━━━━\u001b[0m\u001b[37m\u001b[0m \u001b[1m0s\u001b[0m 91ms/step - accuracy: 0.1429 - loss: 2.6197\n",
      "Epoch 23/50\n",
      "\u001b[1m1/1\u001b[0m \u001b[32m━━━━━━━━━━━━━━━━━━━━\u001b[0m\u001b[37m\u001b[0m \u001b[1m0s\u001b[0m 87ms/step - accuracy: 0.1429 - loss: 2.5737\n",
      "Epoch 24/50\n",
      "\u001b[1m1/1\u001b[0m \u001b[32m━━━━━━━━━━━━━━━━━━━━\u001b[0m\u001b[37m\u001b[0m \u001b[1m0s\u001b[0m 87ms/step - accuracy: 0.1429 - loss: 2.5276\n",
      "Epoch 25/50\n",
      "\u001b[1m1/1\u001b[0m \u001b[32m━━━━━━━━━━━━━━━━━━━━\u001b[0m\u001b[37m\u001b[0m \u001b[1m0s\u001b[0m 78ms/step - accuracy: 0.1429 - loss: 2.4819\n",
      "Epoch 26/50\n",
      "\u001b[1m1/1\u001b[0m \u001b[32m━━━━━━━━━━━━━━━━━━━━\u001b[0m\u001b[37m\u001b[0m \u001b[1m0s\u001b[0m 74ms/step - accuracy: 0.1429 - loss: 2.4371\n",
      "Epoch 27/50\n",
      "\u001b[1m1/1\u001b[0m \u001b[32m━━━━━━━━━━━━━━━━━━━━\u001b[0m\u001b[37m\u001b[0m \u001b[1m0s\u001b[0m 80ms/step - accuracy: 0.1429 - loss: 2.3936\n",
      "Epoch 28/50\n",
      "\u001b[1m1/1\u001b[0m \u001b[32m━━━━━━━━━━━━━━━━━━━━\u001b[0m\u001b[37m\u001b[0m \u001b[1m0s\u001b[0m 198ms/step - accuracy: 0.1429 - loss: 2.3510\n",
      "Epoch 29/50\n",
      "\u001b[1m1/1\u001b[0m \u001b[32m━━━━━━━━━━━━━━━━━━━━\u001b[0m\u001b[37m\u001b[0m \u001b[1m0s\u001b[0m 105ms/step - accuracy: 0.1429 - loss: 2.3088\n",
      "Epoch 30/50\n",
      "\u001b[1m1/1\u001b[0m \u001b[32m━━━━━━━━━━━━━━━━━━━━\u001b[0m\u001b[37m\u001b[0m \u001b[1m0s\u001b[0m 80ms/step - accuracy: 0.1429 - loss: 2.2664\n",
      "Epoch 31/50\n",
      "\u001b[1m1/1\u001b[0m \u001b[32m━━━━━━━━━━━━━━━━━━━━\u001b[0m\u001b[37m\u001b[0m \u001b[1m0s\u001b[0m 89ms/step - accuracy: 0.1429 - loss: 2.2230\n",
      "Epoch 32/50\n",
      "\u001b[1m1/1\u001b[0m \u001b[32m━━━━━━━━━━━━━━━━━━━━\u001b[0m\u001b[37m\u001b[0m \u001b[1m0s\u001b[0m 103ms/step - accuracy: 0.2143 - loss: 2.1782\n",
      "Epoch 33/50\n",
      "\u001b[1m1/1\u001b[0m \u001b[32m━━━━━━━━━━━━━━━━━━━━\u001b[0m\u001b[37m\u001b[0m \u001b[1m0s\u001b[0m 104ms/step - accuracy: 0.2143 - loss: 2.1320\n",
      "Epoch 34/50\n",
      "\u001b[1m1/1\u001b[0m \u001b[32m━━━━━━━━━━━━━━━━━━━━\u001b[0m\u001b[37m\u001b[0m \u001b[1m0s\u001b[0m 88ms/step - accuracy: 0.2857 - loss: 2.0843\n",
      "Epoch 35/50\n",
      "\u001b[1m1/1\u001b[0m \u001b[32m━━━━━━━━━━━━━━━━━━━━\u001b[0m\u001b[37m\u001b[0m \u001b[1m0s\u001b[0m 81ms/step - accuracy: 0.2857 - loss: 2.0357\n",
      "Epoch 36/50\n",
      "\u001b[1m1/1\u001b[0m \u001b[32m━━━━━━━━━━━━━━━━━━━━\u001b[0m\u001b[37m\u001b[0m \u001b[1m0s\u001b[0m 79ms/step - accuracy: 0.5000 - loss: 1.9862\n",
      "Epoch 37/50\n",
      "\u001b[1m1/1\u001b[0m \u001b[32m━━━━━━━━━━━━━━━━━━━━\u001b[0m\u001b[37m\u001b[0m \u001b[1m0s\u001b[0m 96ms/step - accuracy: 0.5000 - loss: 1.9358\n",
      "Epoch 38/50\n",
      "\u001b[1m1/1\u001b[0m \u001b[32m━━━━━━━━━━━━━━━━━━━━\u001b[0m\u001b[37m\u001b[0m \u001b[1m0s\u001b[0m 161ms/step - accuracy: 0.6429 - loss: 1.8847\n",
      "Epoch 39/50\n",
      "\u001b[1m1/1\u001b[0m \u001b[32m━━━━━━━━━━━━━━━━━━━━\u001b[0m\u001b[37m\u001b[0m \u001b[1m0s\u001b[0m 101ms/step - accuracy: 0.7143 - loss: 1.8326\n",
      "Epoch 40/50\n",
      "\u001b[1m1/1\u001b[0m \u001b[32m━━━━━━━━━━━━━━━━━━━━\u001b[0m\u001b[37m\u001b[0m \u001b[1m0s\u001b[0m 100ms/step - accuracy: 0.7143 - loss: 1.7796\n",
      "Epoch 41/50\n",
      "\u001b[1m1/1\u001b[0m \u001b[32m━━━━━━━━━━━━━━━━━━━━\u001b[0m\u001b[37m\u001b[0m \u001b[1m0s\u001b[0m 169ms/step - accuracy: 0.7857 - loss: 1.7253\n",
      "Epoch 42/50\n",
      "\u001b[1m1/1\u001b[0m \u001b[32m━━━━━━━━━━━━━━━━━━━━\u001b[0m\u001b[37m\u001b[0m \u001b[1m0s\u001b[0m 75ms/step - accuracy: 0.7857 - loss: 1.6701\n",
      "Epoch 43/50\n",
      "\u001b[1m1/1\u001b[0m \u001b[32m━━━━━━━━━━━━━━━━━━━━\u001b[0m\u001b[37m\u001b[0m \u001b[1m0s\u001b[0m 78ms/step - accuracy: 0.7857 - loss: 1.6141\n",
      "Epoch 44/50\n",
      "\u001b[1m1/1\u001b[0m \u001b[32m━━━━━━━━━━━━━━━━━━━━\u001b[0m\u001b[37m\u001b[0m \u001b[1m0s\u001b[0m 79ms/step - accuracy: 0.8571 - loss: 1.5576\n",
      "Epoch 45/50\n",
      "\u001b[1m1/1\u001b[0m \u001b[32m━━━━━━━━━━━━━━━━━━━━\u001b[0m\u001b[37m\u001b[0m \u001b[1m0s\u001b[0m 97ms/step - accuracy: 0.8571 - loss: 1.5003\n",
      "Epoch 46/50\n",
      "\u001b[1m1/1\u001b[0m \u001b[32m━━━━━━━━━━━━━━━━━━━━\u001b[0m\u001b[37m\u001b[0m \u001b[1m0s\u001b[0m 88ms/step - accuracy: 0.9286 - loss: 1.4428\n",
      "Epoch 47/50\n",
      "\u001b[1m1/1\u001b[0m \u001b[32m━━━━━━━━━━━━━━━━━━━━\u001b[0m\u001b[37m\u001b[0m \u001b[1m0s\u001b[0m 134ms/step - accuracy: 0.9286 - loss: 1.3852\n",
      "Epoch 48/50\n",
      "\u001b[1m1/1\u001b[0m \u001b[32m━━━━━━━━━━━━━━━━━━━━\u001b[0m\u001b[37m\u001b[0m \u001b[1m0s\u001b[0m 72ms/step - accuracy: 0.8571 - loss: 1.3278\n",
      "Epoch 49/50\n",
      "\u001b[1m1/1\u001b[0m \u001b[32m━━━━━━━━━━━━━━━━━━━━\u001b[0m\u001b[37m\u001b[0m \u001b[1m0s\u001b[0m 77ms/step - accuracy: 0.8571 - loss: 1.2705\n",
      "Epoch 50/50\n",
      "\u001b[1m1/1\u001b[0m \u001b[32m━━━━━━━━━━━━━━━━━━━━\u001b[0m\u001b[37m\u001b[0m \u001b[1m0s\u001b[0m 76ms/step - accuracy: 0.8571 - loss: 1.2136\n"
     ]
    }
   ],
   "source": [
    "history = model.fit(x, y, epochs= 50)"
   ]
  },
  {
   "cell_type": "code",
   "execution_count": 91,
   "id": "a0f4d777-6c3d-4021-a5ea-b7dcf0b8c672",
   "metadata": {},
   "outputs": [],
   "source": [
    "text_sent =['deep learning also',\n",
    "           'learning can be']"
   ]
  },
  {
   "cell_type": "code",
   "execution_count": 92,
   "id": "411ff1ca-d0a2-4f18-9e54-df387b33845e",
   "metadata": {},
   "outputs": [
    {
     "name": "stdout",
     "output_type": "stream",
     "text": [
      "\u001b[1m1/1\u001b[0m \u001b[32m━━━━━━━━━━━━━━━━━━━━\u001b[0m\u001b[37m\u001b[0m \u001b[1m0s\u001b[0m 41ms/step\n",
      "Pred  ['deep', 'learning', 'also'] \n",
      " =  known \n",
      "\n",
      "\n",
      "\u001b[1m1/1\u001b[0m \u001b[32m━━━━━━━━━━━━━━━━━━━━\u001b[0m\u001b[37m\u001b[0m \u001b[1m0s\u001b[0m 43ms/step\n",
      "Pred  ['learning', 'can', 'be'] \n",
      " =  supervised \n",
      "\n",
      "\n"
     ]
    }
   ],
   "source": [
    "for sent in text_sent:\n",
    "    words = sent.split(\" \")\n",
    "    test_sent = []\n",
    "    for word in words:\n",
    "        test_sent.append(words_to_index.get(word))\n",
    "    test_sent= np.array([test_sent])\n",
    "\n",
    "    pred = model.predict(test_sent)\n",
    "    pred = np.argmax(pred)\n",
    "    print(\"Pred \", words, \"\\n = \", index_words.get(pred), \"\\n\\n\")"
   ]
  },
  {
   "cell_type": "code",
   "execution_count": null,
   "id": "6f98ff91-125d-401d-a298-0ed846952531",
   "metadata": {},
   "outputs": [],
   "source": []
  }
 ],
 "metadata": {
  "kernelspec": {
   "display_name": "Python 3 (ipykernel)",
   "language": "python",
   "name": "python3"
  },
  "language_info": {
   "codemirror_mode": {
    "name": "ipython",
    "version": 3
   },
   "file_extension": ".py",
   "mimetype": "text/x-python",
   "name": "python",
   "nbconvert_exporter": "python",
   "pygments_lexer": "ipython3",
   "version": "3.11.9"
  }
 },
 "nbformat": 4,
 "nbformat_minor": 5
}
