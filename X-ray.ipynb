{
 "cells": [
  {
   "cell_type": "code",
   "execution_count": 1,
   "id": "b3d7ff53-7ea3-4cad-bd96-67d89fa858e6",
   "metadata": {},
   "outputs": [],
   "source": [
    "import os\n",
    "\n",
    "import tensorflow as tf\n",
    "\n",
    "from tensorflow.keras.preprocessing.image import ImageDataGenerator\n",
    "from tensorflow.keras import layers, models\n",
    "\n",
    "from tensorflow.keras.optimizers import Adam\n",
    "\n",
    "import matplotlib.pyplot as plt\n",
    "\n",
    "import numpy as np\n",
    "\n",
    "from tensorflow.keras.preprocessing import image\n"
   ]
  },
  {
   "cell_type": "code",
   "execution_count": null,
   "id": "4fa1ae59-8705-4393-b162-270e76ee0a3a",
   "metadata": {},
   "outputs": [],
   "source": [
    "train_dir = 'C:\\\\Users\\\\sd616\\\\Downloads\\\\sp\\\\chest_xray\\\\train'\n",
    "val_dir = 'C:\\\\Users\\\\sd616\\\\Downloads\\\\sp\\\\chest_xray\\\\val '\n",
    "test_dir = 'C:\\\\Users\\\\sd616\\\\Downloads\\\\sp\\\\chest_xray\\\\test'\n"
   ]
  },
  {
   "cell_type": "code",
   "execution_count": null,
   "id": "5410a090-f157-437a-9d75-56e3da92b94f",
   "metadata": {},
   "outputs": [],
   "source": [
    "train_datagen = ImageDataGenerator(\n",
    "rescale=1./255, # Normalize pixel values to [0, 1]\n",
    "shear_range=@.2, # Random shear\n",
    "zoom_range=0.2, # Random zoom\n",
    "horizontal_flip=True # Randomly flip images\n",
    "\n",
    ")\n"
   ]
  },
  {
   "cell_type": "code",
   "execution_count": null,
   "id": "2be0a156-b977-4ae3-a02b-71929ff3a63e",
   "metadata": {},
   "outputs": [],
   "source": [
    "val_datagen = ImageDataGenerator(rescale=1./255)\n",
    "\n",
    "train_generator = train_datagen.flow_from_directory(\n",
    "\n",
    "train_dir,\n",
    "\n",
    "target_size=(150, 150), # Resize all images to 150x15@\n",
    "batch_size=32, # Process 32 images at a time\n",
    "class_mode='binary' # Binary classification: pneumonia or normal\n",
    "\n",
    ")\n"
   ]
  },
  {
   "cell_type": "code",
   "execution_count": null,
   "id": "6e0de511-4b5e-45cd-a092-c70d67ed1c7d",
   "metadata": {},
   "outputs": [],
   "source": [
    "val_generator = val_datagen.flow_from_directory(\n",
    "val_dir,\n",
    "target_size=(15@, 150),\n",
    "batch_size=32,\n",
    "class_mode='binary'\n",
    "\n",
    ")\n"
   ]
  },
  {
   "cell_type": "code",
   "execution_count": null,
   "id": "3660cecf-7d27-4975-8d53-e5d19d8ba05b",
   "metadata": {},
   "outputs": [],
   "source": [
    "model = models.Sequential()\n"
   ]
  },
  {
   "cell_type": "code",
   "execution_count": null,
   "id": "39fab830-8e02-4a61-a5f7-a4055bb55385",
   "metadata": {},
   "outputs": [],
   "source": [
    "# First convolutional Layer\n",
    "model.add(layers.Conv2D(32, (3, 3), activation='relu', input_shape=(15@, 150, 3)))\n",
    "model .add(layers .MaxPooling2D((2, 2)))\n",
    "\n",
    "# Second convolutional Layer\n",
    "model .add(layers.Conv2D(64, (3, 3), activation='relu'))\n",
    "model .add(layers.MaxPooling2D((2, 2)))\n",
    "\n",
    "# Third convolutional Layer\n",
    "model.add(layers.Conv2D(128, (3, 3), activation='relu'))\n",
    "model .add(layers.MaxPooling2D((2, 2)))\n",
    "\n",
    "# Flatten the results to feed into a dense Layer\n",
    "model .add(layers.Flatten())\n",
    "\n",
    "# Fully connected Layer\n",
    "\f",
    "model.add(layers.Dense(128, activation='relu'))\n",
    "\n",
    "# Output Layer (binary classification)\n",
    "model. add(layers.Dense(1, activation='sigmoid'))\n"
   ]
  },
  {
   "cell_type": "code",
   "execution_count": null,
   "id": "a4465b12-37c1-4a22-9cfd-7e3a3805e94d",
   "metadata": {},
   "outputs": [],
   "source": [
    "model. compile(\n",
    "optimizer=Adam(),\n",
    "loss=\"binary_crossentropy' ,\n",
    "metrics=[ ‘accuracy’ ]\n",
    "\n"
   ]
  },
  {
   "cell_type": "code",
   "execution_count": null,
   "id": "2622f1ea-afae-4005-ac15-8c34c9f9bc2f",
   "metadata": {},
   "outputs": [],
   "source": [
    "history = model. fit(\n",
    "train_generator,\n",
    "steps _per_epoch=train_generator.samples // train_generator.batch_size,\n",
    "epochs=4, # Set to a higher value for better results\n",
    "validation_data=val_generator,\n",
    "validation_steps=val_generator.samples // val_generator.batch_size\n",
    "\n",
    ")\n"
   ]
  },
  {
   "cell_type": "code",
   "execution_count": null,
   "id": "03a5cc90-d16e-4fea-83d4-b4a07773d6dc",
   "metadata": {},
   "outputs": [],
   "source": [
    "test_datagen = ImageDataGenerator(rescale=1./255)\n",
    "\n",
    "test_generator = test_datagen.flow_from_directory(\n",
    "test_dir,\n",
    "target_size=(150, 150),\n",
    "batch_size=32,\n",
    "class_mode=\"binary'\n",
    "\n",
    ")\n",
    "\n",
    "test_loss, test_acc = model.evaluate(test_generator)\n",
    "print(f\"Test accuracy: {test_acc}\")\n"
   ]
  },
  {
   "cell_type": "code",
   "execution_count": null,
   "id": "d0608b18-1087-4449-be71-1db9bfc99fc0",
   "metadata": {},
   "outputs": [],
   "source": [
    "x_batch, y_batch = next(train_generator)\n",
    "\n",
    "# Plotting the images in the batch\n",
    "plt.figure(figsize=(10, 10))\n",
    "\n",
    "for i in range(11): # Display 9 images\n",
    "plt.subplot(4,5 , i + 1)\n",
    "plt.imshow(x_batch[i])\n",
    "plt.title('Pneumonia' if y batch[i] == 1 else 'Normal’)\n",
    "plt.axis('off')\n",
    "\n",
    "plt.tight_layout()\n",
    "plt.show()\n"
   ]
  },
  {
   "cell_type": "code",
   "execution_count": null,
   "id": "6aeb2ea1-789f-4571-824c-a4b0371aa317",
   "metadata": {},
   "outputs": [],
   "source": [
    "def load_and_preprocess_image(img_path):\n",
    "img = image.load_img(img_path, target_size=(150, 150)) # Resize image to match mc\n",
    "img_array = image.img_to_array(img) # Convert image to array\n",
    "img_array = np.expand_dims(img_array, axis=0) # Add batch dimension (1, 150, 150,\n",
    "img_array /= 255.@ # Rescale pixel values to [@, 1]\n",
    "return img array\n",
    "\n"
   ]
  },
  {
   "cell_type": "code",
   "execution_count": null,
   "id": "305a4e5e-9041-43e1-a1a2-63110d9eecd3",
   "metadata": {},
   "outputs": [],
   "source": [
    "\n",
    "img_path ='C:\\\\Users\\\\sd616\\\\Downloads\\\\sp\\\\chest_xray\\\\train\\\\PNEUMONIA\\\\person9_bact\n",
    "img_array = load_and_preprocess_image(img_path)\n",
    "\n",
    "# Make a prediction\n",
    "prediction = model.predict(img_array)\n",
    "\f",
    "# Output prediction result\n",
    "if prediction[0] > 0.5:\n",
    "print(\"Pneumonia affected\")\n",
    "else:\n",
    "print( \"Normal\" )"
   ]
  }
 ],
 "metadata": {
  "kernelspec": {
   "display_name": "Python 3 (ipykernel)",
   "language": "python",
   "name": "python3"
  },
  "language_info": {
   "codemirror_mode": {
    "name": "ipython",
    "version": 3
   },
   "file_extension": ".py",
   "mimetype": "text/x-python",
   "name": "python",
   "nbconvert_exporter": "python",
   "pygments_lexer": "ipython3",
   "version": "3.11.4"
  }
 },
 "nbformat": 4,
 "nbformat_minor": 5
}
